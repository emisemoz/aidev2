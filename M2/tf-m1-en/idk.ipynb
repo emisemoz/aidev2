{
 "cells": [
  {
   "cell_type": "code",
   "execution_count": 1,
   "metadata": {},
   "outputs": [
    {
     "ename": "",
     "evalue": "",
     "output_type": "error",
     "traceback": [
      "\u001b[1;31mCannot execute code, session has been disposed. Please try restarting the Kernel."
     ]
    },
    {
     "ename": "",
     "evalue": "",
     "output_type": "error",
     "traceback": [
      "\u001b[1;31mThe Kernel crashed while executing code in the the current cell or a previous cell. Please review the code in the cell(s) to identify a possible cause of the failure. Click <a href='https://aka.ms/vscodeJupyterKernelCrash'>here</a> for more info. View Jupyter <a href='command:jupyter.viewOutput'>log</a> for further details."
     ]
    }
   ],
   "source": [
    "from tensorflow.keras.models import load_model \n",
    "from imutils.contours import sort_contours\n",
    "import numpy as np \n",
    "import imutils \n",
    "import cv2\n",
    "\n",
    "print(\"Load the model . . .\")\n",
    "model = load_model(\"handwriting.model\")\n",
    "\n",
    "image = cv2.imread(\"images/2.jpg\")\n",
    "gray = cv2.cvtColor(image, cv2.COLOR_BGR2GRAY)\n",
    "blurred = cv2.GaussianBlur(gray, (5, 5), 0)\n",
    "\n",
    "edged = cv2.Canny(blurred, 30, 150)\n",
    "cnts = cv2.findContours(edged.copy(), cv2.RETR_EXTERNAL, cv2.CHAIN_APPROX_SIMPLE)\n",
    "cnts = imutils.grab_contours(cnts)\n",
    "cnts = sort_contours(cnts, method = \"left-to-right\") [0]\n",
    "\n",
    "chars = []\n",
    "\n",
    "for c in cnts : \n",
    "    (x, y, w, h) = cv2.boundingRect(c)\n",
    "    if (w >= 5 and w <= 150) and (h >= 15 and h <= 120) :\n",
    "        roi = gray[y:y + h, x:x + w]\n",
    "        thresh = cv2.threshold(roi, 0, 255, cv2.THRESH_BINARY_INV | cv2.THRESH_OTSU) [1]\n",
    "        if tW > tH : \n",
    "            thresh = imutils.resize(thresh, width = 32)\n",
    "        else : \n",
    "            thresh = imutils.resize(thresh, height = 32)\n",
    "\n",
    "            (tH, tW) = thresh.shape \n",
    "            dX = int(max(0, 32 - tW) / 2.0)\n",
    "            dY = int(max(0, 32 - tH) / 2.0)\n",
    "\n",
    "            padded = cv2.copyMakeBorder(thresh, top = dY, bottom = dY, left = dX, right = dX, borderType= cv2.BORDER_CONSTANT, value = (0, 0, 0))\n",
    "            padded = cv2.resize (padded, (32, 32))\n",
    "\n",
    "            padded = padded.astype(\"float32\") / 255.0\n",
    "            padded = np.expand_dims(padded, axis = -1)\n",
    "            chars.append((padded, (x, y, w, h)))\n",
    "\n",
    "boxes = [b[1] for b in chars]\n",
    "chars = np.array([c [0] for c in chars], dtype = \"float32\")\n",
    "\n",
    "preds = model.predict(chars)\n",
    "labelNames = \"0123456789\"\n",
    "labelNames += \"ABCDEFGHIJKLMNOPQRSTUVWXYZ\"\n",
    "labelNames = [1 for _ in labelNames]\n",
    "\n",
    "for (pred, (x, y, w, h)) in zip(preds, boxes) :\n",
    "    i = np.argmax(pred)\n",
    "    prob = pred[i]\n",
    "    label = labelNames[i]\n",
    "    print(\"[INFO] {} - {:.2f}%\".format(label, prob * 100))\n",
    "    cv2.rectangle(image, (x, y), (x + w, y + h), (0, 255, 0), 2)\n",
    "    cv2.putText(image, label, (x - 10, y - 10), cv2.FONT_HERSHEY_SIMPLEX, 1.2, (0, 255, 0), 2)\n",
    "\n",
    "cv2.imshow(\"Image\", image)\n",
    "cv2.waitKey(0)"
   ]
  }
 ],
 "metadata": {
  "kernelspec": {
   "display_name": "Python 3",
   "language": "python",
   "name": "python3"
  },
  "language_info": {
   "codemirror_mode": {
    "name": "ipython",
    "version": 3
   },
   "file_extension": ".py",
   "mimetype": "text/x-python",
   "name": "python",
   "nbconvert_exporter": "python",
   "pygments_lexer": "ipython3",
   "version": "3.9.0"
  },
  "orig_nbformat": 4
 },
 "nbformat": 4,
 "nbformat_minor": 2
}
